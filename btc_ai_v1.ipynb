{
  "nbformat": 4,
  "nbformat_minor": 0,
  "metadata": {
    "colab": {
      "name": "btc-ai-v1.ipynb",
      "provenance": [],
      "authorship_tag": "ABX9TyPFXkQSv4NCAKeoKNuXDRqI",
      "include_colab_link": true
    },
    "kernelspec": {
      "name": "python3",
      "display_name": "Python 3"
    },
    "language_info": {
      "name": "python"
    }
  },
  "cells": [
    {
      "cell_type": "markdown",
      "metadata": {
        "id": "view-in-github",
        "colab_type": "text"
      },
      "source": [
        "<a href=\"https://colab.research.google.com/github/jakejmedeiros/btc-prediction/blob/main/btc_ai_v1.ipynb\" target=\"_parent\"><img src=\"https://colab.research.google.com/assets/colab-badge.svg\" alt=\"Open In Colab\"/></a>"
      ]
    },
    {
      "cell_type": "code",
      "metadata": {
        "id": "jB1oGaStQt-M"
      },
      "source": [
        "import numpy as np\n",
        "import requests\n",
        "from sklearn.preprocessing import MinMaxScaler\n",
        "import json\n",
        "import tensorflow as tf\n",
        "from tensorflow.keras.models import Sequential\n",
        "from tensorflow.keras.layers import Dense, Dropout, LSTM\n",
        "import matplotlib.pyplot as plt\n",
        "\n",
        "# fetches data from coindesk API\n",
        "inital_data = requests.get('https://api.coindesk.com/v1/bpi/historical/close.json?start=2012-01-01&end=2021-01-01').json()\n",
        "price_data = np.array(list(inital_data['bpi'].values()))\n",
        "\n",
        "# scales data between 0,1\n",
        "scale = MinMaxScaler(feature_range=(0,1))\n",
        "scaled_data = scale.fit_transform(price_data.reshape(-1,1))\n",
        "\n",
        "data_train = []\n",
        "predict_train = []\n",
        "\n",
        "training_days = 200\n",
        "\n",
        "# stores data in the arrays\n",
        "for i in range(training_days, len(scaled_data)):\n",
        "  # data training array contains data excluding the last training_days (200)\n",
        "  data_train.append(scaled_data[i - training_days: i, 0])\n",
        "  # prediction data contains all data in range\n",
        "  predict_train.append(scaled_data[i, 0])\n",
        "\n",
        "# transfrom training data into numpy arrays\n",
        "data_train, predict_train = np.array(data_train), np.array(predict_train)\n",
        "\n",
        "# reshapes the data into a 3-D array\n",
        "data_train = np.reshape(data_train, (data_train.shape[0], data_train.shape[1], 1))\n",
        "\n",
        "# creating the neural network\n",
        "network = Sequential()\n",
        "\n",
        "# adding the LSTM layers \n",
        "network.add(LSTM(units = 80, recurrent_dropout = 0.4, return_sequences = True, input_shape = (data_train.shape[1], 1)))\n",
        "network.add(LSTM(units = 70, recurrent_dropout = 0.2, return_sequences = True))\n",
        "network.add(LSTM(units = 65, recurrent_dropout = 0.2))\n",
        "# dense output layer with 1 unit\n",
        "network.add(Dense(units = 1))\n",
        "\n",
        "# trains the network based on above data arrays\n",
        "network.compile(optimizer = 'adam', loss = 'mean_squared_error')\n",
        "network.fit(data_train, predict_train, epochs = 40, batch_size = 32)\n"
      ],
      "execution_count": null,
      "outputs": []
    },
    {
      "cell_type": "code",
      "metadata": {
        "id": "A83WCKVkBg7s"
      },
      "source": [
        "# testing the neural network\n",
        "\n",
        "# get data for the next month\n",
        "test_data = requests.get('https://api.coindesk.com/v1/bpi/historical/close.json?start=2021-01-01&end=2021-02-01').json()\n",
        "test_prices = np.array(list(test_data['bpi'].values()))\n",
        "\n",
        "# array of all data\n",
        "all_data = tf.concat((price_data, test_prices), axis = 0)\n",
        "\n",
        "# creates the input for the neural network \n",
        "network_input = (all_data[len(all_data) - len(test_prices) - training_days:])\n",
        "network_input = scale.transform(np.array(network_input).reshape(-1, 1))\n",
        "\n",
        "# predictions\n",
        "test_arr = []\n",
        "\n",
        "for i in range(training_days, len(network_input)):\n",
        "  test_arr.append(network_input[i - training_days: i, 0])\n",
        "\n",
        "test_arr = np.array(test_arr)\n",
        "test_arr = np.reshape(test_arr, (test_arr.shape[0], test_arr.shape[1], 1))\n",
        "\n",
        "predicted_price = network.predict(test_arr)\n",
        "predicted_price = scale.inverse_transform(predicted_price)\n",
        "\n",
        "# plot predictions for accuracy visualization\n",
        "plt.plot(test_prices, color = \"green\", label = \"Actual BTC Price\")\n",
        "plt.plot(predicted_price, color = \"red\", label = \"Predicted BTC Price\")\n",
        "plt.title(\"Bitcoin Price Prediction\")\n",
        "plt.xlabel(\"Time\")\n",
        "plt.ylabel(\"BTC Price\")\n",
        "plt.legend()\n",
        "plt.show()\n",
        "\n",
        "\n"
      ],
      "execution_count": null,
      "outputs": []
    }
  ]
}